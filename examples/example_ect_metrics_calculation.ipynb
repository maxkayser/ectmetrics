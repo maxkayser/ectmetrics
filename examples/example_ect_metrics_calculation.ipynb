{
 "cells": [
  {
   "cell_type": "markdown",
   "id": "476a3fc9-2320-4837-ad89-7f656632d160",
   "metadata": {},
   "source": [
    "Under construction"
   ]
  },
  {
   "cell_type": "markdown",
   "id": "4289cb65-3c32-4d6f-9773-726d8fd4b350",
   "metadata": {},
   "source": [
    "# ECTMetrics"
   ]
  },
  {
   "cell_type": "markdown",
   "id": "ea47a979-111c-492a-a9c2-7815d97db1dc",
   "metadata": {},
   "source": [
    "In this example, we will demonstrate how to calculate ECT seizure quality indices utilizing the `ectmetrics` library.\n",
    "\n",
    "___"
   ]
  },
  {
   "cell_type": "markdown",
   "id": "b2aa7ea4-f946-4678-a6b0-5ceb9fe5ffbf",
   "metadata": {},
   "source": [
    "First, import the `ectmetrics` library."
   ]
  },
  {
   "cell_type": "code",
   "execution_count": 1,
   "id": "e7464cd8-e398-4402-80e2-6d41e7039923",
   "metadata": {},
   "outputs": [],
   "source": [
    "import ectmetrics\n",
    "from ectmetrics.metrics import metric"
   ]
  },
  {
   "cell_type": "markdown",
   "id": "c2d77f64-792b-4d44-be59-3fd5d51734e2",
   "metadata": {},
   "source": [
    "Let's generate a synthetic EEG signal."
   ]
  },
  {
   "cell_type": "code",
   "execution_count": 2,
   "id": "a07194cf-5de5-43e2-acd2-7d503dcc4129",
   "metadata": {},
   "outputs": [],
   "source": [
    "from ectmetrics.eeg import generate\n",
    "\n",
    "eeg_data = generate(signal_duration = 28, seizure_duration = 21, sampling_frequency = 200)"
   ]
  },
  {
   "cell_type": "markdown",
   "id": "ce7f37b3-b0c3-49aa-b597-744bb1522b51",
   "metadata": {},
   "source": [
    "The metrics to be calculated can be defined as simple list\n",
    "\n",
    "\n",
    "\n",
    "```python\n",
    "metrics_list = ['sei', 'psi', 'mia', 'coh']\n",
    "```\n",
    "\n",
    "Alternatively you can provide a dictionary\n",
    "\n",
    "```python\n",
    "metrics_list = [\n",
    "    {'name': 'asei', 'calculate': True},\n",
    "    {'name': 'sei', 'calculate': False},\n",
    "    {'name': 'psi', 'calculate': False, 'channel': 0},\n",
    "    {'name': 'eia', 'calculate': False},\n",
    "    {'name': 'mia', 'calculate': False},\n",
    "    {'name': 'msp', 'calculate': False},\n",
    "    {'name': 'ttpp', 'calculate': False},\n",
    "    {'name': 'coh', 'calculate': False},\n",
    "    {'name': 'ttpc', 'calculate': False}\n",
    "]\n",
    "```\n",
    "\n",
    "If `metrics_list` is not specified or `None`, than all available seizure quality metrics will be calculated.\n",
    "\n",
    "```python\n",
    "metrics_list = None\n",
    "```\n",
    "\n",
    "For this example, we would like to calculate `PSI` and `COH`:"
   ]
  },
  {
   "cell_type": "code",
   "execution_count": 3,
   "id": "d55e7614-309e-4eea-9f20-40675487e75c",
   "metadata": {},
   "outputs": [],
   "source": [
    "metrics_list = ['psi', 'coh']"
   ]
  },
  {
   "cell_type": "markdown",
   "id": "f479e9c0-7475-4c58-81ba-35d55383bff8",
   "metadata": {},
   "source": [
    "Now pass `eeg_data` and `metrics_list` to the `metrics()`function."
   ]
  },
  {
   "cell_type": "code",
   "execution_count": 4,
   "id": "a226916e-03fa-40ea-875b-e5c3828146eb",
   "metadata": {},
   "outputs": [],
   "source": [
    "#!pip uninstall ectmetrics --yes\n",
    "#!pip install ../../ectmetrics"
   ]
  },
  {
   "cell_type": "code",
   "execution_count": 10,
   "id": "04436374-c05f-41c3-abef-bc980e9e53bc",
   "metadata": {},
   "outputs": [
    {
     "data": {
      "text/plain": [
       "<module 'ectmetrics.metrics' from 'C:\\\\Users\\\\Max\\\\anaconda3\\\\envs\\\\ectmetrics\\\\lib\\\\site-packages\\\\ectmetrics\\\\metrics.py'>"
      ]
     },
     "execution_count": 10,
     "metadata": {},
     "output_type": "execute_result"
    }
   ],
   "source": [
    "#!pip install importlib\n",
    "import importlib\n",
    "import ectmetrics\n",
    "importlib.reload(ectmetrics)\n",
    "from ectmetrics import metrics, eeg\n",
    "importlib.reload(ectmetrics.eeg)\n",
    "importlib.reload(ectmetrics.metrics)"
   ]
  },
  {
   "cell_type": "code",
   "execution_count": 22,
   "id": "8a0c8feb-d549-4179-b200-1fb9bd5a16d8",
   "metadata": {},
   "outputs": [],
   "source": [
    "\n",
    "\n",
    "metrics_list = [\n",
    "    {\n",
    "        'name': 'psi', \n",
    "        'calculate': True, \n",
    "        'channel': 0\n",
    "    },\n",
    "    {\n",
    "        'name': 'coh', \n",
    "        'calculate': True,\n",
    "        'channel': [0, 1],\n",
    "        'options': {\n",
    "            'n_consecutive_segments': 8\n",
    "        }\n",
    "    },\n",
    "    {'name': 'ttpc', 'calculate': False}\n",
    "]\n",
    "#metrics_list = None"
   ]
  },
  {
   "cell_type": "code",
   "execution_count": 23,
   "id": "80efaca1-8114-4d35-8b2d-55034ae2245b",
   "metadata": {},
   "outputs": [
    {
     "data": {
      "text/plain": [
       "[{'name': 'psi',\n",
       "  'description': 'Postictal Suppression Index',\n",
       "  'options': None,\n",
       "  'value': 84.5735966704092,\n",
       "  'unit': '%',\n",
       "  'timepoints': {'startpoint': 3048, 'endpoint': 5352}},\n",
       " {'name': 'coh',\n",
       "  'description': 'Maximum Sustained Coherence',\n",
       "  'options': None,\n",
       "  'value': 39.49912442693011,\n",
       "  'unit': '%',\n",
       "  'timepoints': {'startpoint': 512, 'endpoint': 1536}}]"
      ]
     },
     "execution_count": 23,
     "metadata": {},
     "output_type": "execute_result"
    }
   ],
   "source": [
    "#Calculate the seizure quality metrics\n",
    "metrics_results = metric(eeg_data, 256, metrics_list)\n",
    "\n",
    "metrics_results"
   ]
  },
  {
   "cell_type": "code",
   "execution_count": 8,
   "id": "8308e983-06c9-4204-86b2-9309a39ddb8a",
   "metadata": {
    "scrolled": true
   },
   "outputs": [],
   "source": [
    "#metrics_results"
   ]
  },
  {
   "cell_type": "code",
   "execution_count": null,
   "id": "f56029f8-71fa-435d-8755-dea65aea4a7c",
   "metadata": {},
   "outputs": [],
   "source": []
  },
  {
   "cell_type": "code",
   "execution_count": null,
   "id": "d5b90c13-a17f-45a8-8305-c53361b316d8",
   "metadata": {},
   "outputs": [],
   "source": []
  },
  {
   "cell_type": "code",
   "execution_count": null,
   "id": "9974c4ad-d01b-4cdd-98e8-a0f1539b65ff",
   "metadata": {},
   "outputs": [],
   "source": []
  },
  {
   "cell_type": "code",
   "execution_count": 9,
   "id": "910547ce-4005-48dd-aa14-fb4c0de08d82",
   "metadata": {},
   "outputs": [],
   "source": [
    "from ectmetrics.eeg import plot"
   ]
  },
  {
   "cell_type": "code",
   "execution_count": null,
   "id": "4e14ca5f-c357-4832-ae09-38e0a4c94c4b",
   "metadata": {},
   "outputs": [],
   "source": []
  },
  {
   "cell_type": "markdown",
   "id": "e292275c-be09-45cd-8341-517f02bbb0f8",
   "metadata": {},
   "source": [
    "___\n",
    "**Contact Information**\n",
    "\n",
    "For more details, please refer to the [contact file](../CONTACT.md).\n",
    "\n",
    "**Citing ECTMetrics**\n",
    "\n",
    "If you utilize the `ectmetrics` library in your research or projects, please refer to the [citations file](../CITATIONS.md) in this repository for proper citation guidance."
   ]
  }
 ],
 "metadata": {
  "kernelspec": {
   "display_name": "Python 3 (ipykernel)",
   "language": "python",
   "name": "python3"
  },
  "language_info": {
   "codemirror_mode": {
    "name": "ipython",
    "version": 3
   },
   "file_extension": ".py",
   "mimetype": "text/x-python",
   "name": "python",
   "nbconvert_exporter": "python",
   "pygments_lexer": "ipython3",
   "version": "3.8.19"
  }
 },
 "nbformat": 4,
 "nbformat_minor": 5
}

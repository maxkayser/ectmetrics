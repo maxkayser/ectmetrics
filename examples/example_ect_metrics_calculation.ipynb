{
 "cells": [
  {
   "cell_type": "markdown",
   "id": "476a3fc9-2320-4837-ad89-7f656632d160",
   "metadata": {},
   "source": [
    "Under construction"
   ]
  },
  {
   "cell_type": "markdown",
   "id": "4289cb65-3c32-4d6f-9773-726d8fd4b350",
   "metadata": {},
   "source": [
    "# ECTMetrics"
   ]
  },
  {
   "cell_type": "code",
   "execution_count": null,
   "id": "9e71808f-acd3-4f90-8aec-0f7ffa6cf7de",
   "metadata": {},
   "outputs": [],
   "source": []
  },
  {
   "cell_type": "code",
   "execution_count": null,
   "id": "aed48331-6dd6-4bb0-9b86-e99812505e41",
   "metadata": {},
   "outputs": [],
   "source": []
  }
 ],
 "metadata": {
  "kernelspec": {
   "display_name": "Python 3 (ipykernel)",
   "language": "python",
   "name": "python3"
  },
  "language_info": {
   "codemirror_mode": {
    "name": "ipython",
    "version": 3
   },
   "file_extension": ".py",
   "mimetype": "text/x-python",
   "name": "python",
   "nbconvert_exporter": "python",
   "pygments_lexer": "ipython3",
   "version": "3.8.19"
  }
 },
 "nbformat": 4,
 "nbformat_minor": 5
}

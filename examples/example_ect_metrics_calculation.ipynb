{
 "cells": [
  {
   "cell_type": "markdown",
   "id": "4289cb65-3c32-4d6f-9773-726d8fd4b350",
   "metadata": {},
   "source": [
    "# ECTMetrics"
   ]
  },
  {
   "cell_type": "markdown",
   "id": "7e20be44-d2a1-4a5c-82a8-22d3480e2d28",
   "metadata": {},
   "source": [
    "## Seizure quality indices calculation"
   ]
  },
  {
   "cell_type": "markdown",
   "id": "ea47a979-111c-492a-a9c2-7815d97db1dc",
   "metadata": {},
   "source": [
    "In this example, we will demonstrate how to calculate ECT seizure quality indices utilizing the `ectmetrics` library.\n",
    "\n",
    "___"
   ]
  },
  {
   "cell_type": "markdown",
   "id": "b2aa7ea4-f946-4678-a6b0-5ceb9fe5ffbf",
   "metadata": {},
   "source": [
    "First, import the `ectmetrics` library."
   ]
  },
  {
   "cell_type": "code",
   "execution_count": 1,
   "id": "e7464cd8-e398-4402-80e2-6d41e7039923",
   "metadata": {},
   "outputs": [],
   "source": [
    "import ectmetrics\n",
    "from ectmetrics.metrics import metric"
   ]
  },
  {
   "cell_type": "markdown",
   "id": "c2d77f64-792b-4d44-be59-3fd5d51734e2",
   "metadata": {},
   "source": [
    "Let's generate a synthetic EEG signal."
   ]
  },
  {
   "cell_type": "code",
   "execution_count": 2,
   "id": "a07194cf-5de5-43e2-acd2-7d503dcc4129",
   "metadata": {},
   "outputs": [],
   "source": [
    "from ectmetrics.eeg import generate\n",
    "\n",
    "eeg_data = generate(signal_duration = 28, seizure_duration = 21, sampling_frequency = 200)"
   ]
  },
  {
   "cell_type": "markdown",
   "id": "ce7f37b3-b0c3-49aa-b597-744bb1522b51",
   "metadata": {},
   "source": [
    "The metrics to be calculated can be defined as simple list\n",
    "\n",
    "\n",
    "\n",
    "```python\n",
    "metrics_list = ['sei', 'psi', 'mia', 'coh']\n",
    "```\n",
    "\n",
    "Alternatively you can provide a dictionary\n",
    "\n",
    "```python\n",
    "metrics_list = [\n",
    "    {'name': 'asei', 'calculate': True},\n",
    "    {'name': 'sei', 'calculate': False},\n",
    "    {'name': 'psi', 'calculate': False, 'channel': 0},\n",
    "    {'name': 'eia', 'calculate': False},\n",
    "    {'name': 'mia', 'calculate': False},\n",
    "    {'name': 'msp', 'calculate': False},\n",
    "    {'name': 'ttpp', 'calculate': False},\n",
    "    {'name': 'coh', 'calculate': False},\n",
    "    {'name': 'ttpc', 'calculate': False}\n",
    "]\n",
    "```\n",
    "\n",
    "If `metrics_list` is not specified or `None`, than all available seizure quality metrics will be calculated.\n",
    "\n",
    "```python\n",
    "metrics_list = None\n",
    "```\n",
    "\n",
    "For this example, we would like to calculate `PSI` and `COH`:"
   ]
  },
  {
   "cell_type": "code",
   "execution_count": 3,
   "id": "d55e7614-309e-4eea-9f20-40675487e75c",
   "metadata": {},
   "outputs": [],
   "source": [
    "metrics_list = [\n",
    "    {\n",
    "        'name': 'psi', \n",
    "        'calculate': True, \n",
    "        'channel': 0\n",
    "    },\n",
    "    {\n",
    "        'name': 'coh', \n",
    "        'calculate': True,\n",
    "        'channel': [0, 1],\n",
    "        'options': {\n",
    "            'n_consecutive_segments': 8\n",
    "        }\n",
    "    }\n",
    "]"
   ]
  },
  {
   "cell_type": "markdown",
   "id": "f479e9c0-7475-4c58-81ba-35d55383bff8",
   "metadata": {},
   "source": [
    "Now pass `eeg_data` and `metrics_list` to the `metric()`function."
   ]
  },
  {
   "cell_type": "code",
   "execution_count": 4,
   "id": "947c40c6-d013-4e24-ae00-39c370573f49",
   "metadata": {},
   "outputs": [
    {
     "data": {
      "text/plain": [
       "[{'name': 'psi',\n",
       "  'description': 'Postictal Suppression Index',\n",
       "  'options': None,\n",
       "  'value': 84.34253430128422,\n",
       "  'unit': '%',\n",
       "  'timepoints': {'startpoint': 3048, 'endpoint': 5352}},\n",
       " {'name': 'coh',\n",
       "  'description': 'Maximum Sustained Coherence',\n",
       "  'options': None,\n",
       "  'value': 42.312464231008015,\n",
       "  'unit': '%',\n",
       "  'timepoints': {'startpoint': 1024, 'endpoint': 2048}}]"
      ]
     },
     "execution_count": 4,
     "metadata": {},
     "output_type": "execute_result"
    }
   ],
   "source": [
    "#Calculate the seizure quality metrics\n",
    "metrics_results = metric(eeg_data, 256, metrics_list)\n",
    "\n",
    "metrics_results"
   ]
  },
  {
   "cell_type": "markdown",
   "id": "e292275c-be09-45cd-8341-517f02bbb0f8",
   "metadata": {},
   "source": [
    "___\n",
    "**Contact Information**\n",
    "\n",
    "For more details, please refer to the [contact file](../CONTACT.md).\n",
    "\n",
    "**Citing ECTMetrics**\n",
    "\n",
    "If you utilize the `ectmetrics` library in your research or projects, please refer to the [citations file](../CITATIONS.md) in this repository for proper citation guidance."
   ]
  },
  {
   "cell_type": "code",
   "execution_count": null,
   "id": "2296ed27-fbd0-4b96-bed9-cc78b927e30f",
   "metadata": {},
   "outputs": [],
   "source": []
  }
 ],
 "metadata": {
  "kernelspec": {
   "display_name": "Python 3 (ipykernel)",
   "language": "python",
   "name": "python3"
  },
  "language_info": {
   "codemirror_mode": {
    "name": "ipython",
    "version": 3
   },
   "file_extension": ".py",
   "mimetype": "text/x-python",
   "name": "python",
   "nbconvert_exporter": "python",
   "pygments_lexer": "ipython3",
   "version": "3.8.19"
  }
 },
 "nbformat": 4,
 "nbformat_minor": 5
}

{
 "cells": [
  {
   "cell_type": "code",
   "execution_count": null,
   "id": "97e465e3-5fd7-4514-a3da-8d26372ac2a0",
   "metadata": {},
   "outputs": [],
   "source": []
  },
  {
   "cell_type": "code",
   "execution_count": null,
   "id": "4cf955f0-f5c4-4cd6-8832-b1c82260b854",
   "metadata": {},
   "outputs": [],
   "source": [
    "import importlib\n",
    "importlib.reload(ectmetrics.eeg)\n",
    "importlib.reload(ectmetrics.metrics)"
   ]
  },
  {
   "cell_type": "code",
   "execution_count": null,
   "id": "cdf63a7a-57e8-4176-8780-2a2bbbb9de7f",
   "metadata": {},
   "outputs": [],
   "source": []
  },
  {
   "cell_type": "code",
   "execution_count": null,
   "id": "6c95abad-ef9c-4517-bf77-efd0d5e3855b",
   "metadata": {},
   "outputs": [],
   "source": []
  },
  {
   "cell_type": "code",
   "execution_count": null,
   "id": "5db180ff-8a7f-4461-8680-f2cbf1f6d8cf",
   "metadata": {},
   "outputs": [],
   "source": []
  },
  {
   "cell_type": "code",
   "execution_count": null,
   "id": "57de059f-eefc-4b4a-afb6-486c3b5f891c",
   "metadata": {},
   "outputs": [],
   "source": []
  },
  {
   "cell_type": "code",
   "execution_count": null,
   "id": "1a93b468-1df1-4323-8249-62070712ce94",
   "metadata": {},
   "outputs": [],
   "source": []
  },
  {
   "cell_type": "markdown",
   "id": "7f56acae-9589-4c55-9b51-90ce0e921f41",
   "metadata": {},
   "source": [
    "# Calculate ECT seizure quality metrics"
   ]
  },
  {
   "cell_type": "code",
   "execution_count": null,
   "id": "bf1d0526-e11c-4043-ae1f-d6dcbeb1d304",
   "metadata": {},
   "outputs": [],
   "source": []
  },
  {
   "cell_type": "code",
   "execution_count": null,
   "id": "d06e48d9-e922-4bd2-9b52-da6f0d8065b4",
   "metadata": {},
   "outputs": [],
   "source": []
  },
  {
   "cell_type": "code",
   "execution_count": null,
   "id": "b5d695ca-a9cc-40f4-93b3-c05774ce0c45",
   "metadata": {},
   "outputs": [],
   "source": []
  }
 ],
 "metadata": {
  "kernelspec": {
   "display_name": "Python 3 (ipykernel)",
   "language": "python",
   "name": "python3"
  },
  "language_info": {
   "codemirror_mode": {
    "name": "ipython",
    "version": 3
   },
   "file_extension": ".py",
   "mimetype": "text/x-python",
   "name": "python",
   "nbconvert_exporter": "python",
   "pygments_lexer": "ipython3",
   "version": "3.8.19"
  }
 },
 "nbformat": 4,
 "nbformat_minor": 5
}

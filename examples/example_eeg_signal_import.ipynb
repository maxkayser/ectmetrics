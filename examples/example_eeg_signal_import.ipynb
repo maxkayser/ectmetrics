{
 "cells": [
  {
   "cell_type": "markdown",
   "id": "ca6f0a92-2f5f-4764-8888-9d0cd26ef074",
   "metadata": {},
   "source": [
    "Under construction"
   ]
  },
  {
   "cell_type": "markdown",
   "id": "c7ab8856-8d81-4b0f-8a45-90e67085d2ae",
   "metadata": {},
   "source": [
    "# ECTMetrics"
   ]
  },
  {
   "cell_type": "code",
   "execution_count": null,
   "id": "6637d77b-56fa-49ef-8e45-448a17a23e1b",
   "metadata": {},
   "outputs": [],
   "source": []
  },
  {
   "cell_type": "code",
   "execution_count": 1,
   "id": "ea2d2e81-3731-4e2d-9528-df5ca1a175a3",
   "metadata": {},
   "outputs": [],
   "source": [
    "\n",
    "from ectmetrics.eeg import generate, plot"
   ]
  },
  {
   "cell_type": "code",
   "execution_count": null,
   "id": "31f076e5-5c5d-4066-a66c-39bb30ac5609",
   "metadata": {},
   "outputs": [],
   "source": []
  },
  {
   "cell_type": "markdown",
   "id": "ba740e58-1175-4907-804b-a4c56fe41641",
   "metadata": {},
   "source": [
    "___\n",
    "**Contact Information**\n",
    "\n",
    "For more details, please refer to the [contact file](CONTACT.md).\n",
    "\n",
    "**Citing ECTMetrics**\n",
    "\n",
    "If you utilize the `ectmetrics` library in your research or projects, please refer to the [citations file](CITATIONS.md) in this repository for proper citation guidance."
   ]
  }
 ],
 "metadata": {
  "kernelspec": {
   "display_name": "Python 3 (ipykernel)",
   "language": "python",
   "name": "python3"
  },
  "language_info": {
   "codemirror_mode": {
    "name": "ipython",
    "version": 3
   },
   "file_extension": ".py",
   "mimetype": "text/x-python",
   "name": "python",
   "nbconvert_exporter": "python",
   "pygments_lexer": "ipython3",
   "version": "3.8.19"
  }
 },
 "nbformat": 4,
 "nbformat_minor": 5
}

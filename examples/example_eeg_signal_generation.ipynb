{
 "cells": [
  {
   "cell_type": "markdown",
   "id": "1a90e352-d714-4698-ac0d-561bd7a13a09",
   "metadata": {},
   "source": [
    "Under construction"
   ]
  },
  {
   "cell_type": "markdown",
   "id": "2f15a93d-4ab5-4a17-8ca0-2854bef9508d",
   "metadata": {},
   "source": [
    "# ECTMetrics"
   ]
  },
  {
   "cell_type": "code",
   "execution_count": null,
   "id": "999db0c8-6556-4bd6-b855-8bb27d126b20",
   "metadata": {},
   "outputs": [],
   "source": []
  },
  {
   "cell_type": "code",
   "execution_count": null,
   "id": "66289497-e085-421d-8437-ac8f25eb8600",
   "metadata": {},
   "outputs": [],
   "source": []
  },
  {
   "cell_type": "code",
   "execution_count": null,
   "id": "69ec3d9f-440c-488c-9866-32199dc29116",
   "metadata": {},
   "outputs": [],
   "source": []
  },
  {
   "cell_type": "markdown",
   "id": "c526b554-bcb0-4ecf-8778-8cdea065c328",
   "metadata": {},
   "source": [
    "___\n",
    "**Contact Information**\n",
    "\n",
    "For more details, please refer to the [contact file](CONTACT.md).\n",
    "\n",
    "**Citing ECTMetrics**\n",
    "\n",
    "If you utilize the `ectmetrics` library in your research or projects, please refer to the [citations file](CITATIONS.md) in this repository for proper citation guidance."
   ]
  }
 ],
 "metadata": {
  "kernelspec": {
   "display_name": "Python 3 (ipykernel)",
   "language": "python",
   "name": "python3"
  },
  "language_info": {
   "codemirror_mode": {
    "name": "ipython",
    "version": 3
   },
   "file_extension": ".py",
   "mimetype": "text/x-python",
   "name": "python",
   "nbconvert_exporter": "python",
   "pygments_lexer": "ipython3",
   "version": "3.8.19"
  }
 },
 "nbformat": 4,
 "nbformat_minor": 5
}
